{
 "cells": [
  {
   "cell_type": "code",
   "execution_count": 1,
   "metadata": {},
   "outputs": [],
   "source": [
    "import pandas as pd\n",
    "import numpy as np"
   ]
  },
  {
   "cell_type": "markdown",
   "metadata": {},
   "source": [
    "Чтение данных и статуса компании. Считываются данные по годам, а так же файл со статусами компаний."
   ]
  },
  {
   "cell_type": "code",
   "execution_count": 3,
   "metadata": {},
   "outputs": [],
   "source": [
    "rosstat = []\n",
    "for i in range(2, 9):\n",
    "    rosstat.append(pd.read_csv(('rosstat_201' + str(i) + '_without_prev.csv')))\n",
    "    rosstat[i-2]['266'] = 2010 + i\n",
    "result = rosstat[0]\n",
    "for i in range(1, 7):\n",
    "    result = result.append(rosstat[i], ignore_index=True)\n",
    "pred = pd.read_csv('status.csv')"
   ]
  },
  {
   "cell_type": "code",
   "execution_count": 4,
   "metadata": {},
   "outputs": [
    {
     "name": "stderr",
     "output_type": "stream",
     "text": [
      "C:\\ProgramData\\Anaconda3\\lib\\site-packages\\ipykernel_launcher.py:15: SettingWithCopyWarning: \n",
      "A value is trying to be set on a copy of a slice from a DataFrame\n",
      "\n",
      "See the caveats in the documentation: http://pandas.pydata.org/pandas-docs/stable/user_guide/indexing.html#returning-a-view-versus-a-copy\n",
      "  from ipykernel import kernelapp as app\n",
      "C:\\ProgramData\\Anaconda3\\lib\\site-packages\\ipykernel_launcher.py:13: SettingWithCopyWarning: \n",
      "A value is trying to be set on a copy of a slice from a DataFrame\n",
      "\n",
      "See the caveats in the documentation: http://pandas.pydata.org/pandas-docs/stable/user_guide/indexing.html#returning-a-view-versus-a-copy\n",
      "  del sys.path[0]\n"
     ]
    }
   ],
   "source": [
    "result['To_Predict'] = 0\n",
    "for index, row in pred.iterrows():\n",
    "    year = pred['DATE'][index][-4:]\n",
    "    active = -1\n",
    "    if (row['STATUS'] == 'активное'):\n",
    "        active = 1\n",
    "    iterate = result[result['5'] == row['INN']].index.tolist()\n",
    "    for i in iterate:\n",
    "        if (year == 'rror'):\n",
    "            break\n",
    "        x = int(result['Unnamed: 0'][i])\n",
    "        if (int(result['Unnamed: 0'][i]) < int(year)):\n",
    "            result['To_Predict'][i] = 1\n",
    "        else:\n",
    "            result['To_Predict'][i] = active"
   ]
  }
 ],
 "metadata": {
  "kernelspec": {
   "display_name": "Python 3",
   "language": "python",
   "name": "python3"
  },
  "language_info": {
   "codemirror_mode": {
    "name": "ipython",
    "version": 3
   },
   "file_extension": ".py",
   "mimetype": "text/x-python",
   "name": "python",
   "nbconvert_exporter": "python",
   "pygments_lexer": "ipython3",
   "version": "3.7.4"
  }
 },
 "nbformat": 4,
 "nbformat_minor": 2
}
