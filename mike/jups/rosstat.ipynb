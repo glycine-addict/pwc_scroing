{
 "cells": [
  {
   "cell_type": "code",
   "execution_count": 3,
   "metadata": {
    "ExecuteTime": {
     "end_time": "2020-04-19T20:23:19.099632Z",
     "start_time": "2020-04-19T20:23:17.825939Z"
    }
   },
   "outputs": [],
   "source": [
    "import pandas as pd"
   ]
  },
  {
   "cell_type": "code",
   "execution_count": 4,
   "metadata": {
    "ExecuteTime": {
     "end_time": "2020-04-19T20:23:19.916566Z",
     "start_time": "2020-04-19T20:23:19.913072Z"
    }
   },
   "outputs": [],
   "source": [
    "category = '46.71'\n",
    "old_category = \n",
    "\n",
    "'''\n",
    "41.20 = 45.21.1\n",
    "\n",
    "46.90 = 51.70\n",
    "\n",
    "47.11=52.11\n",
    "\n",
    "49.41 = 60.24\n",
    "\n",
    "46.73 = 51.53\n",
    "52.29 = 63.40\n",
    "\n",
    "'''"
   ]
  },
  {
   "cell_type": "code",
   "execution_count": 3,
   "metadata": {
    "ExecuteTime": {
     "end_time": "2020-01-28T16:22:17.379893Z",
     "start_time": "2020-01-28T16:21:15.489860Z"
    }
   },
   "outputs": [],
   "source": [
    "for year in range(2012, 2019):\n",
    "    df = pd.read_csv('data-{0}.csv'.format(year), sep=';', names=[x for x in range(0, 266)], encoding='cp1251')\n",
    "    # df_new = df[df[df.columns[4]] == '51.51'] # if < 2016\n",
    "    df_new = df[df[df.columns[4]] == category] # if >= 2016\n",
    "    df_new.columns = np.arange(len(df.columns))\n",
    "    cols = [x for x in range(8, 265)]\n",
    "    df_new.head()\n",
    "    df_384 = df_new[(df_new[df_new.columns[6]] == 384)]\n",
    "    df_384[cols] = df_384[cols].apply(lambda x: x * 1000)\n",
    "    df_385 = df_new[(df_new[df_new.columns[6]] == 385)]\n",
    "    df_385[cols] = df_385[cols].apply(lambda x: x * 1000000)\n",
    "    final = pd.concat([df_384, df_385], ignore_index=True)\n",
    "    arr = [[8, 9], [10, 11], [12, 13], [14, 15], [16, 17], [18, 19], [20, 21], [22, 23], [24, 25], [26, 27], [28, 29], [30, 31], [32, 33], [34, 35], [36, 37], [38, 39], [40, 41], [42, 43], [44, 45], [46, 47], [48, 49], [50, 51], [52, 53], [54, 55], [56, 57], [58, 59], [60, 61], [62, 63], [64, 65], [66, 67], [68, 69], [70, 71], [72, 73], [74, 75], [76, 77], [78, 79], [80, 81], [82, 83], [84, 85], [86, 87], [88, 89], [90, 91], [92, 93], [94, 95], [96, 97], [98, 99], [100, 101], [102, 103], [104, 105], [106, 107], [108, 109], [110, 111], [112, 113], [114, 115], [116, 117], [118, 119], [120, 121], [122, 123], [195, 124], [196, 125], [197, 126], [198, 127], [199, 128], [200, 129], [201, 202]]\n",
    "    arr_prev = []\n",
    "    arr_curr = []\n",
    "    for i in arr:\n",
    "        arr_prev.append(str(i[1]))\n",
    "        arr_curr.append(str(i[0]))\n",
    "    final.drop(arr_prev, axis=1, inplace=True)\n",
    "    \n",
    "    final.to_csv('rosstat_{0}.csv'.format(year), index=False)\n",
    "    final = pd.DataFrame()"
   ]
  },
  {
   "cell_type": "code",
   "execution_count": 104,
   "metadata": {
    "ExecuteTime": {
     "end_time": "2020-01-27T22:36:28.309902Z",
     "start_time": "2020-01-27T22:36:25.235576Z"
    }
   },
   "outputs": [],
   "source": []
  },
  {
   "cell_type": "code",
   "execution_count": null,
   "metadata": {},
   "outputs": [],
   "source": []
  }
 ],
 "metadata": {
  "kernelspec": {
   "display_name": "Python 3",
   "language": "python",
   "name": "python3"
  },
  "language_info": {
   "codemirror_mode": {
    "name": "ipython",
    "version": 3
   },
   "file_extension": ".py",
   "mimetype": "text/x-python",
   "name": "python",
   "nbconvert_exporter": "python",
   "pygments_lexer": "ipython3",
   "version": "3.7.3"
  },
  "varInspector": {
   "cols": {
    "lenName": 16,
    "lenType": 16,
    "lenVar": 40
   },
   "kernels_config": {
    "python": {
     "delete_cmd_postfix": "",
     "delete_cmd_prefix": "del ",
     "library": "var_list.py",
     "varRefreshCmd": "print(var_dic_list())"
    },
    "r": {
     "delete_cmd_postfix": ") ",
     "delete_cmd_prefix": "rm(",
     "library": "var_list.r",
     "varRefreshCmd": "cat(var_dic_list()) "
    }
   },
   "types_to_exclude": [
    "module",
    "function",
    "builtin_function_or_method",
    "instance",
    "_Feature"
   ],
   "window_display": false
  }
 },
 "nbformat": 4,
 "nbformat_minor": 2
}
