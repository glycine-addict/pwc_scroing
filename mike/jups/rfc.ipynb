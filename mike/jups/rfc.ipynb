{
 "cells": [
  {
   "cell_type": "code",
   "execution_count": 1,
   "metadata": {
    "ExecuteTime": {
     "end_time": "2020-03-23T16:47:47.541261Z",
     "start_time": "2020-03-23T16:47:42.365790Z"
    }
   },
   "outputs": [],
   "source": [
    "import pandas as pd\n",
    "import numpy as np\n",
    "from sklearn.ensemble import RandomForestClassifier\n",
    "from sklearn.model_selection import cross_val_score\n",
    "from sklearn.model_selection import train_test_split\n",
    "from sklearn.model_selection import GridSearchCV"
   ]
  },
  {
   "cell_type": "code",
   "execution_count": 2,
   "metadata": {
    "ExecuteTime": {
     "end_time": "2020-03-23T16:47:48.652395Z",
     "start_time": "2020-03-23T16:47:47.570462Z"
    }
   },
   "outputs": [],
   "source": [
    "rosstat = pd.read_csv('rosstat7y.csv')"
   ]
  },
  {
   "cell_type": "code",
   "execution_count": 5,
   "metadata": {
    "ExecuteTime": {
     "end_time": "2020-03-23T16:50:20.499739Z",
     "start_time": "2020-03-23T16:49:13.311166Z"
    }
   },
   "outputs": [
    {
     "name": "stdout",
     "output_type": "stream",
     "text": [
      "[0.59647784 0.65854202 0.72415246 0.71981649 0.73921202]\n",
      "Index(['36', '56', '82', '84', '26', '70', '16', '78', '40', '32',\n",
      "       ...\n",
      "       '169', '173', '244', '174', '177', '179', '180', '191', '243', '182'],\n",
      "      dtype='object', length=194)\n"
     ]
    }
   ],
   "source": [
    "rosstat_data = rosstat.iloc[:, 6:200]\n",
    "result = rosstat['To_Predict']\n",
    "\n",
    "params = {\n",
    "            'bootstrap': True, 'class_weight': None, 'criterion': 'gini',\n",
    "            'max_depth': 15, 'max_features': 'auto', 'max_leaf_nodes': None,\n",
    "            'min_impurity_decrease': 0.0, 'min_impurity_split': None, 'min_samples_leaf': 1,\n",
    "            'min_samples_split': 2, 'min_weight_fraction_leaf': 0.0, 'n_estimators': 100,\n",
    "            'n_jobs': None, 'oob_score': False, 'random_state': None, 'verbose': 0, 'warm_start': False\n",
    "        }\n",
    "clf = RandomForestClassifier()\n",
    "clf.set_params(**params)\n",
    " \n",
    "scores = cross_val_score(clf, rosstat_data, result, cv=5, scoring='roc_auc')\n",
    "print(scores)\n",
    "clf.fit(rosstat_data, result)\n",
    "importances = clf.feature_importances_\n",
    "indices = np.argsort(importances)[::-1]\n",
    "print(rosstat_data.columns[indices])"
   ]
  },
  {
   "cell_type": "code",
   "execution_count": null,
   "metadata": {},
   "outputs": [],
   "source": []
  }
 ],
 "metadata": {
  "kernelspec": {
   "display_name": "Python 3",
   "language": "python",
   "name": "python3"
  },
  "language_info": {
   "codemirror_mode": {
    "name": "ipython",
    "version": 3
   },
   "file_extension": ".py",
   "mimetype": "text/x-python",
   "name": "python",
   "nbconvert_exporter": "python",
   "pygments_lexer": "ipython3",
   "version": "3.7.3"
  },
  "varInspector": {
   "cols": {
    "lenName": 16,
    "lenType": 16,
    "lenVar": 40
   },
   "kernels_config": {
    "python": {
     "delete_cmd_postfix": "",
     "delete_cmd_prefix": "del ",
     "library": "var_list.py",
     "varRefreshCmd": "print(var_dic_list())"
    },
    "r": {
     "delete_cmd_postfix": ") ",
     "delete_cmd_prefix": "rm(",
     "library": "var_list.r",
     "varRefreshCmd": "cat(var_dic_list()) "
    }
   },
   "types_to_exclude": [
    "module",
    "function",
    "builtin_function_or_method",
    "instance",
    "_Feature"
   ],
   "window_display": false
  }
 },
 "nbformat": 4,
 "nbformat_minor": 2
}
