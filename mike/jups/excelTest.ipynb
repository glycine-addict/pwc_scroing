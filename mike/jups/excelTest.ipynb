{
 "cells": [
  {
   "cell_type": "code",
   "execution_count": 2,
   "metadata": {
    "ExecuteTime": {
     "end_time": "2020-01-11T10:24:40.057334Z",
     "start_time": "2020-01-11T10:24:38.213018Z"
    }
   },
   "outputs": [],
   "source": [
    "import pandas as pd"
   ]
  },
  {
   "cell_type": "code",
   "execution_count": 199,
   "metadata": {
    "ExecuteTime": {
     "end_time": "2019-12-29T23:01:52.757291Z",
     "start_time": "2019-12-29T23:01:52.586188Z"
    }
   },
   "outputs": [],
   "source": [
    "df = pd.read_csv('CARD_HIST12345.csv')"
   ]
  },
  {
   "cell_type": "code",
   "execution_count": 200,
   "metadata": {
    "ExecuteTime": {
     "end_time": "2019-12-29T23:01:53.235168Z",
     "start_time": "2019-12-29T23:01:53.225477Z"
    }
   },
   "outputs": [],
   "source": [
    "df = df[['STAT_NCODE', 'NAME', 'TAXPAYER_NCODE', 'REGNUM_NCODE', 'UK']]"
   ]
  },
  {
   "cell_type": "code",
   "execution_count": 332,
   "metadata": {
    "ExecuteTime": {
     "end_time": "2019-12-30T00:01:52.811568Z",
     "start_time": "2019-12-30T00:01:52.789542Z"
    }
   },
   "outputs": [],
   "source": [
    "def from_excel(df_excel):\n",
    "    df_excel.columns = df_excel.iloc[2]\n",
    "    df_excel = df_excel.drop([0, 1, 2], axis=0)\n",
    "    df_excel = df_excel[['Наименование', 'Адрес (место нахождения)', 'Телефон', 'Электронный адрес', 'Сайт в сети Интернет', 'Регистрационный номер', 'Код налогоплательщика', 'Код статистики']]\n",
    "\n",
    "    df_excel['Регистрационный номер'] = df_excel['Регистрационный номер'].fillna('-1').astype(int)\n",
    "    df_excel['Код налогоплательщика'] = df_excel['Код налогоплательщика'].fillna('-1').astype(int)\n",
    "    df_excel['Код статистики'] = df_excel['Код статистики'].fillna('-1').astype(int)\n",
    "\n",
    "    df_excel = df_excel.merge(df, how='inner', left_on = ['Наименование', 'Регистрационный номер', 'Код налогоплательщика', 'Код статистики'], right_on = ['NAME', 'REGNUM_NCODE', 'TAXPAYER_NCODE', 'STAT_NCODE'])\n",
    "\n",
    "    df_excel.drop(['Регистрационный номер', 'Код налогоплательщика', 'STAT_NCODE', 'NAME', 'TAXPAYER_NCODE', 'REGNUM_NCODE', 'Код статистики'], axis=1, inplace=True)\n",
    "\n",
    "    df_excel.rename(columns={'Адрес (место нахождения)':'ADDRESS'}, inplace=True)\n",
    "    df_excel.rename(columns={'Телефон':'PHONE'}, inplace=True)\n",
    "    df_excel.rename(columns={'Электронный адрес':'EMAIL'}, inplace=True)\n",
    "    df_excel.rename(columns={'Сайт в сети Интернет':'WEBSITE'}, inplace=True)\n",
    "    df_excel.rename(columns={'UK':'CARD_UK'}, inplace=True)\n",
    "\n",
    "    df_excel['ADDRESS'] = df_excel['ADDRESS'].fillna('-1')\n",
    "    df_excel['PHONE'] = df_excel['PHONE'].fillna('-1')\n",
    "    df_excel['EMAIL'] = df_excel['EMAIL'].fillna('-1')\n",
    "    df_excel['WEBSITE'] = df_excel['WEBSITE'].fillna('-1')\n",
    "    df_excel['CARD_UK'] = df_excel['CARD_UK']\n",
    "\n",
    "    df_excel['EFFECTIVE_FROM'] = '20090101'\n",
    "    df_excel['EFFECTIVE_TO'] = '20991231'\n",
    "    df_excel['AS_OF_DAY'] = '20191214 12:00:00'\n",
    "    df_excel['DELETED_FLAG'] = 'N'\n",
    "    df_excel['JOB_INSERT'] = 1\n",
    "    df_excel['JOB_UPDATE'] = 1\n",
    "#     df_excel.index.name='UK'\n",
    "\n",
    "    return df_excel"
   ]
  },
  {
   "cell_type": "code",
   "execution_count": 333,
   "metadata": {
    "ExecuteTime": {
     "end_time": "2019-12-30T00:02:03.725954Z",
     "start_time": "2019-12-30T00:01:53.217492Z"
    }
   },
   "outputs": [],
   "source": [
    "df_excel2009 = pd.read_excel('46.71/2009.xlsx')\n",
    "\n",
    "df_excel2009 = from_excel(df_excel2009)"
   ]
  },
  {
   "cell_type": "code",
   "execution_count": 334,
   "metadata": {
    "ExecuteTime": {
     "end_time": "2019-12-30T00:02:14.520150Z",
     "start_time": "2019-12-30T00:02:04.103043Z"
    }
   },
   "outputs": [],
   "source": [
    "df_excel2010 = pd.read_excel('46.71/2010.xlsx')\n",
    "\n",
    "df_excel2010 = from_excel(df_excel2010)"
   ]
  },
  {
   "cell_type": "code",
   "execution_count": 335,
   "metadata": {
    "ExecuteTime": {
     "end_time": "2019-12-30T00:02:25.022676Z",
     "start_time": "2019-12-30T00:02:14.875284Z"
    }
   },
   "outputs": [
    {
     "name": "stdout",
     "output_type": "stream",
     "text": [
      "changed\n",
      "changed\n",
      "changed\n"
     ]
    }
   ],
   "source": [
    "for index, row in df_excel2010.iterrows():\n",
    "    row2009 = df_excel2009.loc[(df_excel2009['CARD_UK']==row['CARD_UK']) & (df_excel2009['EFFECTIVE_TO']=='20991231')]\n",
    "\n",
    "    if not ((row2009['ADDRESS'].values == row['ADDRESS']) and (row2009['PHONE'].values == row['PHONE']) and (row2009['EMAIL'].values == row['EMAIL']) and (row2009['WEBSITE'].values == row['WEBSITE'])):\n",
    "        df_excel2009.loc[(df_excel2009['CARD_UK']==row['CARD_UK']) & (df_excel2009['EFFECTIVE_TO']=='20991231'), 'EFFECTIVE_TO'] = '20091231'\n",
    "        row['EFFECTIVE_FROM'] = '20100101'\n",
    "        print('changed')\n",
    "        df_excel2009 = df_excel2009.append(row, ignore_index=True)\n",
    "\n"
   ]
  },
  {
   "cell_type": "code",
   "execution_count": 336,
   "metadata": {
    "ExecuteTime": {
     "end_time": "2019-12-30T00:02:25.418101Z",
     "start_time": "2019-12-30T00:02:25.402916Z"
    }
   },
   "outputs": [
    {
     "data": {
      "text/html": [
       "<div>\n",
       "<style scoped>\n",
       "    .dataframe tbody tr th:only-of-type {\n",
       "        vertical-align: middle;\n",
       "    }\n",
       "\n",
       "    .dataframe tbody tr th {\n",
       "        vertical-align: top;\n",
       "    }\n",
       "\n",
       "    .dataframe thead th {\n",
       "        text-align: right;\n",
       "    }\n",
       "</style>\n",
       "<table border=\"1\" class=\"dataframe\">\n",
       "  <thead>\n",
       "    <tr style=\"text-align: right;\">\n",
       "      <th></th>\n",
       "      <th>Наименование</th>\n",
       "      <th>ADDRESS</th>\n",
       "      <th>PHONE</th>\n",
       "      <th>EMAIL</th>\n",
       "      <th>WEBSITE</th>\n",
       "      <th>CARD_UK</th>\n",
       "      <th>EFFECTIVE_FROM</th>\n",
       "      <th>EFFECTIVE_TO</th>\n",
       "      <th>AS_OF_DAY</th>\n",
       "      <th>DELETED_FLAG</th>\n",
       "      <th>JOB_INSERT</th>\n",
       "      <th>JOB_UPDATE</th>\n",
       "    </tr>\n",
       "  </thead>\n",
       "  <tbody>\n",
       "    <tr>\n",
       "      <th>5795</th>\n",
       "      <td>Русский Уголь Красноярск, Фл АО</td>\n",
       "      <td>660075, Красноярский край, г. Красноярск, ул. ...</td>\n",
       "      <td>+7 (391) 2525451, +7 (391) 2525455, +7 (391) 2...</td>\n",
       "      <td>kku@kku.ru, mailto:kku@kku.ru</td>\n",
       "      <td>-1</td>\n",
       "      <td>1010814</td>\n",
       "      <td>20090101</td>\n",
       "      <td>20991231</td>\n",
       "      <td>20191214 12:00:00</td>\n",
       "      <td>N</td>\n",
       "      <td>1</td>\n",
       "      <td>1</td>\n",
       "    </tr>\n",
       "    <tr>\n",
       "      <th>5796</th>\n",
       "      <td>КУЗБАССКИЙ ОПТОВИК, ООО</td>\n",
       "      <td>653024, Кемеровская обл., г. Прокопьевск, ул. ...</td>\n",
       "      <td>+7 (905) 0754862</td>\n",
       "      <td>-1</td>\n",
       "      <td>-1</td>\n",
       "      <td>1010815</td>\n",
       "      <td>20090101</td>\n",
       "      <td>20991231</td>\n",
       "      <td>20191214 12:00:00</td>\n",
       "      <td>N</td>\n",
       "      <td>1</td>\n",
       "      <td>1</td>\n",
       "    </tr>\n",
       "    <tr>\n",
       "      <th>5797</th>\n",
       "      <td>ДРЕВЭКСПОРТ, ООО</td>\n",
       "      <td>156518, Костромская обл, г. Кострома, шоссе Га...</td>\n",
       "      <td>+7 (494) 2451582</td>\n",
       "      <td>-1</td>\n",
       "      <td>-1</td>\n",
       "      <td>1010085</td>\n",
       "      <td>20100101</td>\n",
       "      <td>20991231</td>\n",
       "      <td>20191214 12:00:00</td>\n",
       "      <td>N</td>\n",
       "      <td>1</td>\n",
       "      <td>1</td>\n",
       "    </tr>\n",
       "    <tr>\n",
       "      <th>5798</th>\n",
       "      <td>ФЛЭШ ЭНЕРДЖИ, ООО</td>\n",
       "      <td>344011, Ростовская обл., г. Ростов-На-Дону, пе...</td>\n",
       "      <td>+7 (863) 3031100, +7 (863) 2538763, +7 (863) 2...</td>\n",
       "      <td>-1</td>\n",
       "      <td>uk-estate.ru</td>\n",
       "      <td>1008298</td>\n",
       "      <td>20100101</td>\n",
       "      <td>20991231</td>\n",
       "      <td>20191214 12:00:00</td>\n",
       "      <td>N</td>\n",
       "      <td>1</td>\n",
       "      <td>1</td>\n",
       "    </tr>\n",
       "    <tr>\n",
       "      <th>5799</th>\n",
       "      <td>ИНСАН, ООО</td>\n",
       "      <td>452751, Башкортостан респ, Туймазинский район,...</td>\n",
       "      <td>+7 (963) 9069560</td>\n",
       "      <td>-1</td>\n",
       "      <td>-1</td>\n",
       "      <td>1007779</td>\n",
       "      <td>20100101</td>\n",
       "      <td>20991231</td>\n",
       "      <td>20191214 12:00:00</td>\n",
       "      <td>N</td>\n",
       "      <td>1</td>\n",
       "      <td>1</td>\n",
       "    </tr>\n",
       "  </tbody>\n",
       "</table>\n",
       "</div>"
      ],
      "text/plain": [
       "                         Наименование  \\\n",
       "5795  Русский Уголь Красноярск, Фл АО   \n",
       "5796          КУЗБАССКИЙ ОПТОВИК, ООО   \n",
       "5797                 ДРЕВЭКСПОРТ, ООО   \n",
       "5798                ФЛЭШ ЭНЕРДЖИ, ООО   \n",
       "5799                       ИНСАН, ООО   \n",
       "\n",
       "                                                ADDRESS  \\\n",
       "5795  660075, Красноярский край, г. Красноярск, ул. ...   \n",
       "5796  653024, Кемеровская обл., г. Прокопьевск, ул. ...   \n",
       "5797  156518, Костромская обл, г. Кострома, шоссе Га...   \n",
       "5798  344011, Ростовская обл., г. Ростов-На-Дону, пе...   \n",
       "5799  452751, Башкортостан респ, Туймазинский район,...   \n",
       "\n",
       "                                                  PHONE  \\\n",
       "5795  +7 (391) 2525451, +7 (391) 2525455, +7 (391) 2...   \n",
       "5796                                   +7 (905) 0754862   \n",
       "5797                                   +7 (494) 2451582   \n",
       "5798  +7 (863) 3031100, +7 (863) 2538763, +7 (863) 2...   \n",
       "5799                                   +7 (963) 9069560   \n",
       "\n",
       "                              EMAIL       WEBSITE  CARD_UK EFFECTIVE_FROM  \\\n",
       "5795  kku@kku.ru, mailto:kku@kku.ru            -1  1010814       20090101   \n",
       "5796                             -1            -1  1010815       20090101   \n",
       "5797                             -1            -1  1010085       20100101   \n",
       "5798                             -1  uk-estate.ru  1008298       20100101   \n",
       "5799                             -1            -1  1007779       20100101   \n",
       "\n",
       "     EFFECTIVE_TO          AS_OF_DAY DELETED_FLAG  JOB_INSERT  JOB_UPDATE  \n",
       "5795     20991231  20191214 12:00:00            N           1           1  \n",
       "5796     20991231  20191214 12:00:00            N           1           1  \n",
       "5797     20991231  20191214 12:00:00            N           1           1  \n",
       "5798     20991231  20191214 12:00:00            N           1           1  \n",
       "5799     20991231  20191214 12:00:00            N           1           1  "
      ]
     },
     "execution_count": 336,
     "metadata": {},
     "output_type": "execute_result"
    }
   ],
   "source": [
    "df_excel2009.tail(5)"
   ]
  },
  {
   "cell_type": "code",
   "execution_count": 337,
   "metadata": {
    "ExecuteTime": {
     "end_time": "2019-12-30T00:02:25.823023Z",
     "start_time": "2019-12-30T00:02:25.819745Z"
    }
   },
   "outputs": [],
   "source": [
    "df_final = df_excel2009"
   ]
  },
  {
   "cell_type": "code",
   "execution_count": 338,
   "metadata": {
    "ExecuteTime": {
     "end_time": "2019-12-30T00:02:26.174264Z",
     "start_time": "2019-12-30T00:02:26.169651Z"
    }
   },
   "outputs": [],
   "source": [
    "df_final.index.name = 'UK'"
   ]
  },
  {
   "cell_type": "code",
   "execution_count": 343,
   "metadata": {
    "ExecuteTime": {
     "end_time": "2019-12-30T00:02:52.266295Z",
     "start_time": "2019-12-30T00:02:52.148320Z"
    }
   },
   "outputs": [],
   "source": [
    "df_final.to_csv('CONTACTS_HIST.csv')"
   ]
  },
  {
   "cell_type": "code",
   "execution_count": 3,
   "metadata": {
    "ExecuteTime": {
     "end_time": "2020-01-11T10:25:09.407330Z",
     "start_time": "2020-01-11T10:25:09.329025Z"
    }
   },
   "outputs": [],
   "source": [
    "dff = pd.read_csv('CONTACTS_HIST.csv')"
   ]
  },
  {
   "cell_type": "code",
   "execution_count": 9,
   "metadata": {
    "ExecuteTime": {
     "end_time": "2020-01-11T10:28:08.610411Z",
     "start_time": "2020-01-11T10:28:08.604592Z"
    }
   },
   "outputs": [],
   "source": [
    "dff.drop(['UK'], axis=1, inplace=True)"
   ]
  },
  {
   "cell_type": "code",
   "execution_count": 10,
   "metadata": {
    "ExecuteTime": {
     "end_time": "2020-01-11T10:28:09.864724Z",
     "start_time": "2020-01-11T10:28:09.848566Z"
    }
   },
   "outputs": [
    {
     "data": {
      "text/html": [
       "<div>\n",
       "<style scoped>\n",
       "    .dataframe tbody tr th:only-of-type {\n",
       "        vertical-align: middle;\n",
       "    }\n",
       "\n",
       "    .dataframe tbody tr th {\n",
       "        vertical-align: top;\n",
       "    }\n",
       "\n",
       "    .dataframe thead th {\n",
       "        text-align: right;\n",
       "    }\n",
       "</style>\n",
       "<table border=\"1\" class=\"dataframe\">\n",
       "  <thead>\n",
       "    <tr style=\"text-align: right;\">\n",
       "      <th></th>\n",
       "      <th>ADDRESS</th>\n",
       "      <th>PHONE</th>\n",
       "      <th>EMAIL</th>\n",
       "      <th>WEBSITE</th>\n",
       "      <th>CARD_UK</th>\n",
       "      <th>EFFECTIVE_FROM</th>\n",
       "      <th>EFFECTIVE_TO</th>\n",
       "      <th>AS_OF_DAY</th>\n",
       "      <th>DELETED_FLAG</th>\n",
       "      <th>JOB_INSERT</th>\n",
       "      <th>JOB_UPDATE</th>\n",
       "    </tr>\n",
       "  </thead>\n",
       "  <tbody>\n",
       "    <tr>\n",
       "      <th>0</th>\n",
       "      <td>143080, Московская обл., Одинцовский район, по...</td>\n",
       "      <td>+7 (812) 5280737</td>\n",
       "      <td>-1</td>\n",
       "      <td>-1</td>\n",
       "      <td>1005019</td>\n",
       "      <td>20090101</td>\n",
       "      <td>20991231</td>\n",
       "      <td>20191214 12:00:00</td>\n",
       "      <td>N</td>\n",
       "      <td>1</td>\n",
       "      <td>1</td>\n",
       "    </tr>\n",
       "    <tr>\n",
       "      <th>1</th>\n",
       "      <td>198052, г. Санкт-Петербург, ул. Егорова, д. 18...</td>\n",
       "      <td>+7 (812) 2718547, +7 (812) 2718519</td>\n",
       "      <td>-1</td>\n",
       "      <td>-1</td>\n",
       "      <td>1005020</td>\n",
       "      <td>20090101</td>\n",
       "      <td>20991231</td>\n",
       "      <td>20191214 12:00:00</td>\n",
       "      <td>N</td>\n",
       "      <td>1</td>\n",
       "      <td>1</td>\n",
       "    </tr>\n",
       "    <tr>\n",
       "      <th>2</th>\n",
       "      <td>672003, Забайкальский кр., г. Чита, ул. Тракто...</td>\n",
       "      <td>+7 (3022) 451238, +7 (3022) 455272</td>\n",
       "      <td>-1</td>\n",
       "      <td>корс.рф</td>\n",
       "      <td>1005021</td>\n",
       "      <td>20090101</td>\n",
       "      <td>20991231</td>\n",
       "      <td>20191214 12:00:00</td>\n",
       "      <td>N</td>\n",
       "      <td>1</td>\n",
       "      <td>1</td>\n",
       "    </tr>\n",
       "    <tr>\n",
       "      <th>3</th>\n",
       "      <td>432035, Ульяновская обл., г. Ульяновск, ул. Ав...</td>\n",
       "      <td>+7 (8422) 354016, +7 (8422) 354046, +7 (8422) ...</td>\n",
       "      <td>secretar@ulzg.ru</td>\n",
       "      <td>ulzg.ru</td>\n",
       "      <td>1005022</td>\n",
       "      <td>20090101</td>\n",
       "      <td>20991231</td>\n",
       "      <td>20191214 12:00:00</td>\n",
       "      <td>N</td>\n",
       "      <td>1</td>\n",
       "      <td>1</td>\n",
       "    </tr>\n",
       "    <tr>\n",
       "      <th>4</th>\n",
       "      <td>450075, Башкортостан респ, г. Уфа, ул. Блюхера...</td>\n",
       "      <td>+7 (347) 2335343</td>\n",
       "      <td>-1</td>\n",
       "      <td>-1</td>\n",
       "      <td>1005023</td>\n",
       "      <td>20090101</td>\n",
       "      <td>20991231</td>\n",
       "      <td>20191214 12:00:00</td>\n",
       "      <td>N</td>\n",
       "      <td>1</td>\n",
       "      <td>1</td>\n",
       "    </tr>\n",
       "  </tbody>\n",
       "</table>\n",
       "</div>"
      ],
      "text/plain": [
       "                                             ADDRESS  \\\n",
       "0  143080, Московская обл., Одинцовский район, по...   \n",
       "1  198052, г. Санкт-Петербург, ул. Егорова, д. 18...   \n",
       "2  672003, Забайкальский кр., г. Чита, ул. Тракто...   \n",
       "3  432035, Ульяновская обл., г. Ульяновск, ул. Ав...   \n",
       "4  450075, Башкортостан респ, г. Уфа, ул. Блюхера...   \n",
       "\n",
       "                                               PHONE             EMAIL  \\\n",
       "0                                   +7 (812) 5280737                -1   \n",
       "1                 +7 (812) 2718547, +7 (812) 2718519                -1   \n",
       "2                 +7 (3022) 451238, +7 (3022) 455272                -1   \n",
       "3  +7 (8422) 354016, +7 (8422) 354046, +7 (8422) ...  secretar@ulzg.ru   \n",
       "4                                   +7 (347) 2335343                -1   \n",
       "\n",
       "   WEBSITE  CARD_UK  EFFECTIVE_FROM  EFFECTIVE_TO          AS_OF_DAY  \\\n",
       "0       -1  1005019        20090101      20991231  20191214 12:00:00   \n",
       "1       -1  1005020        20090101      20991231  20191214 12:00:00   \n",
       "2  корс.рф  1005021        20090101      20991231  20191214 12:00:00   \n",
       "3  ulzg.ru  1005022        20090101      20991231  20191214 12:00:00   \n",
       "4       -1  1005023        20090101      20991231  20191214 12:00:00   \n",
       "\n",
       "  DELETED_FLAG  JOB_INSERT  JOB_UPDATE  \n",
       "0            N           1           1  \n",
       "1            N           1           1  \n",
       "2            N           1           1  \n",
       "3            N           1           1  \n",
       "4            N           1           1  "
      ]
     },
     "execution_count": 10,
     "metadata": {},
     "output_type": "execute_result"
    }
   ],
   "source": [
    "dff.head()"
   ]
  },
  {
   "cell_type": "code",
   "execution_count": 11,
   "metadata": {
    "ExecuteTime": {
     "end_time": "2020-01-11T10:28:22.151459Z",
     "start_time": "2020-01-11T10:28:22.147543Z"
    }
   },
   "outputs": [],
   "source": [
    "dff.index.name = 'UK'"
   ]
  },
  {
   "cell_type": "code",
   "execution_count": 12,
   "metadata": {
    "ExecuteTime": {
     "end_time": "2020-01-11T10:28:24.139691Z",
     "start_time": "2020-01-11T10:28:24.069506Z"
    }
   },
   "outputs": [],
   "source": [
    "dff.to_csv('CONTACTS_HIST.csv')"
   ]
  },
  {
   "cell_type": "code",
   "execution_count": null,
   "metadata": {},
   "outputs": [],
   "source": []
  }
 ],
 "metadata": {
  "kernelspec": {
   "display_name": "Python 3",
   "language": "python",
   "name": "python3"
  },
  "language_info": {
   "codemirror_mode": {
    "name": "ipython",
    "version": 3
   },
   "file_extension": ".py",
   "mimetype": "text/x-python",
   "name": "python",
   "nbconvert_exporter": "python",
   "pygments_lexer": "ipython3",
   "version": "3.7.3"
  },
  "varInspector": {
   "cols": {
    "lenName": 16,
    "lenType": 16,
    "lenVar": 40
   },
   "kernels_config": {
    "python": {
     "delete_cmd_postfix": "",
     "delete_cmd_prefix": "del ",
     "library": "var_list.py",
     "varRefreshCmd": "print(var_dic_list())"
    },
    "r": {
     "delete_cmd_postfix": ") ",
     "delete_cmd_prefix": "rm(",
     "library": "var_list.r",
     "varRefreshCmd": "cat(var_dic_list()) "
    }
   },
   "types_to_exclude": [
    "module",
    "function",
    "builtin_function_or_method",
    "instance",
    "_Feature"
   ],
   "window_display": false
  }
 },
 "nbformat": 4,
 "nbformat_minor": 2
}
