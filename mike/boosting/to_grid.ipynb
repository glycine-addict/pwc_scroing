{
 "cells": [
  {
   "cell_type": "code",
   "execution_count": 17,
   "metadata": {
    "ExecuteTime": {
     "end_time": "2020-04-27T14:07:49.309026Z",
     "start_time": "2020-04-27T14:07:49.304368Z"
    }
   },
   "outputs": [],
   "source": [
    "import pandas as pd\n",
    "import numpy as np\n",
    "from sklearn.model_selection import GridSearchCV\n",
    "from sklearn.ensemble import RandomForestClassifier\n",
    "from sklearn.model_selection import cross_val_score"
   ]
  },
  {
   "cell_type": "code",
   "execution_count": 19,
   "metadata": {
    "ExecuteTime": {
     "end_time": "2020-04-27T14:20:05.409526Z",
     "start_time": "2020-04-27T14:13:23.003848Z"
    }
   },
   "outputs": [
    {
     "name": "stdout",
     "output_type": "stream",
     "text": [
      "Fitting 5 folds for each of 1 candidates, totalling 5 fits\n"
     ]
    },
    {
     "name": "stderr",
     "output_type": "stream",
     "text": [
      "[Parallel(n_jobs=-1)]: Using backend LokyBackend with 4 concurrent workers.\n",
      "[Parallel(n_jobs=-1)]: Done   5 out of   5 | elapsed:  5.2min finished\n"
     ]
    },
    {
     "name": "stdout",
     "output_type": "stream",
     "text": [
      "RandomForestClassifier(bootstrap=True, class_weight=None, criterion='gini',\n",
      "                       max_depth=None, max_features='auto', max_leaf_nodes=None,\n",
      "                       min_impurity_decrease=0.0, min_impurity_split=None,\n",
      "                       min_samples_leaf=1, min_samples_split=2,\n",
      "                       min_weight_fraction_leaf=0.0, n_estimators=400,\n",
      "                       n_jobs=None, oob_score=False, random_state=None,\n",
      "                       verbose=0, warm_start=False)\n"
     ]
    }
   ],
   "source": [
    "data = pd.read_csv('rosstat7y.csv') #TRY NEW LAG\n",
    "X_train = data.iloc[:, 8:200] # без учета года\n",
    "y_train = data.iloc[:, -1:].values.ravel()\n",
    "forest = RandomForestClassifier() # n_estimators=400, max_depth=5, n_jobs=-1)\n",
    "\n",
    "n_estimators = [400]\n",
    "max_features = ['auto', 'sqrt']\n",
    "max_depth = [3, 5]\n",
    "# max_depth.append(None)\n",
    "# min_samples_split = [2, 5]\n",
    "# min_samples_leaf = [2, 5]\n",
    "bootstrap = [True]#, False]\n",
    "\n",
    "hyper = {'n_estimators': n_estimators, }\n",
    "\n",
    "grid = GridSearchCV(forest, hyper, cv=5, verbose=1, scoring='roc_auc', n_jobs=-1)\n",
    "best = grid.fit(X_train, y_train)\n",
    "print(best.best_estimator_)"
   ]
  },
  {
   "cell_type": "code",
   "execution_count": 20,
   "metadata": {
    "ExecuteTime": {
     "end_time": "2020-04-27T14:35:20.810775Z",
     "start_time": "2020-04-27T14:35:20.787817Z"
    }
   },
   "outputs": [
    {
     "data": {
      "text/plain": [
       "RandomForestClassifier(bootstrap=True, class_weight=None, criterion='gini',\n",
       "                       max_depth=None, max_features='auto', max_leaf_nodes=None,\n",
       "                       min_impurity_decrease=0.0, min_impurity_split=None,\n",
       "                       min_samples_leaf=1, min_samples_split=2,\n",
       "                       min_weight_fraction_leaf=0.0, n_estimators=400,\n",
       "                       n_jobs=None, oob_score=False, random_state=None,\n",
       "                       verbose=0, warm_start=False)"
      ]
     },
     "execution_count": 20,
     "metadata": {},
     "output_type": "execute_result"
    }
   ],
   "source": [
    "best.best_estimator_"
   ]
  },
  {
   "cell_type": "code",
   "execution_count": 25,
   "metadata": {
    "ExecuteTime": {
     "end_time": "2020-04-27T14:47:57.966836Z",
     "start_time": "2020-04-27T14:40:51.917977Z"
    }
   },
   "outputs": [
    {
     "data": {
      "text/plain": [
       "array([0.61996432, 0.69125477, 0.7559069 , 0.75022976, 0.75309525])"
      ]
     },
     "execution_count": 25,
     "metadata": {},
     "output_type": "execute_result"
    }
   ],
   "source": [
    "cross_val_score(best.best_estimator_, X_train, y_train, cv=5, scoring = 'roc_auc')"
   ]
  },
  {
   "cell_type": "code",
   "execution_count": 27,
   "metadata": {
    "ExecuteTime": {
     "end_time": "2020-04-27T14:52:46.923042Z",
     "start_time": "2020-04-27T14:49:52.184090Z"
    }
   },
   "outputs": [
    {
     "data": {
      "text/plain": [
       "array([0.6597217 , 0.67344616, 0.6750364 , 0.72167316, 0.66328495])"
      ]
     },
     "execution_count": 27,
     "metadata": {},
     "output_type": "execute_result"
    }
   ],
   "source": [
    "cross_val_score(best.best_estimator_, X_train, y_train, cv=5, scoring = 'roc_auc')"
   ]
  },
  {
   "cell_type": "code",
   "execution_count": 24,
   "metadata": {
    "ExecuteTime": {
     "end_time": "2020-04-27T14:38:16.627040Z",
     "start_time": "2020-04-27T14:38:16.466217Z"
    }
   },
   "outputs": [
    {
     "name": "stdout",
     "output_type": "stream",
     "text": [
      "Index(['56', '32', '80', '42', '70', '36', '40', '78', '84', '82', '116', '28',\n",
      "       '102', '104', '92', '86', '54', '106', '68', '122', '44', '26', '88',\n",
      "       '16', '100', '38', '66', '30', '58', '90', '98', '34', '76', '201',\n",
      "       '114', '20', '200', '96', '199', '108'],\n",
      "      dtype='object')\n"
     ]
    }
   ],
   "source": [
    "importances = best.best_estimator_.feature_importances_\n",
    "indices = np.argsort(importances)[::-1]\n",
    "print(X_train.columns[indices][:40])"
   ]
  },
  {
   "cell_type": "code",
   "execution_count": 26,
   "metadata": {
    "ExecuteTime": {
     "end_time": "2020-04-27T14:49:44.772741Z",
     "start_time": "2020-04-27T14:49:44.436937Z"
    }
   },
   "outputs": [],
   "source": [
    "data = pd.read_csv('3year_lag.csv') #TRY NEW LAG\n",
    "X_train = data.iloc[:, 1:-2] #с учетом года\n",
    "y_train = data.iloc[:, -1:].values.ravel()\n",
    "forest3year = RandomForestClassifier(n_estimators=400)"
   ]
  },
  {
   "cell_type": "code",
   "execution_count": 4,
   "metadata": {
    "ExecuteTime": {
     "end_time": "2020-04-27T13:52:12.843808Z",
     "start_time": "2020-04-27T13:50:05.598731Z"
    },
    "scrolled": true
   },
   "outputs": [
    {
     "data": {
      "text/plain": [
       "array([0.65626166, 0.66932559, 0.6797032 , 0.71298896, 0.66116928])"
      ]
     },
     "execution_count": 4,
     "metadata": {},
     "output_type": "execute_result"
    }
   ],
   "source": [
    "cross_val_score(forest3year, X_train, y_train, cv=5, scoring = 'roc_auc') #max"
   ]
  },
  {
   "cell_type": "code",
   "execution_count": 13,
   "metadata": {
    "ExecuteTime": {
     "end_time": "2020-04-16T22:20:03.000569Z",
     "start_time": "2020-04-16T22:19:46.344418Z"
    }
   },
   "outputs": [
    {
     "name": "stdout",
     "output_type": "stream",
     "text": [
      "Fitting 3 folds for each of 2 candidates, totalling 6 fits\n"
     ]
    },
    {
     "name": "stderr",
     "output_type": "stream",
     "text": [
      "[Parallel(n_jobs=-1)]: Using backend LokyBackend with 4 concurrent workers.\n",
      "[Parallel(n_jobs=-1)]: Done   6 out of   6 | elapsed:   10.6s remaining:    0.0s\n",
      "[Parallel(n_jobs=-1)]: Done   6 out of   6 | elapsed:   10.6s finished\n",
      "/Users/mikeovyan/anaconda3/lib/python3.7/site-packages/sklearn/model_selection/_search.py:714: DataConversionWarning: A column-vector y was passed when a 1d array was expected. Please change the shape of y to (n_samples,), for example using ravel().\n",
      "  self.best_estimator_.fit(X, y, **fit_params)\n"
     ]
    }
   ],
   "source": [
    "# X_train = data.iloc[:, 1:-2] #без учета года\n",
    "# y_train = data.iloc[:, -1:].values.ravel()\n",
    "# forest = RandomForestClassifier()\n",
    "# n_estimators = [int(x) for x in np.linspace(start = 200, stop = 240, num = 10)] # 240 -> 2000\n",
    "# max_features = ['auto', 'sqrt']\n",
    "# max_depth = [int(x) for x in np.linspace(10, 40, num = 11)] #40 == 110\n",
    "# max_depth.append(None)\n",
    "# min_samples_split = [2, 5, 10]#, 15, 100]\n",
    "# min_samples_leaf = [1, 2, 5]#, 10] \n",
    "# bootstrap = [True]#, False]\n",
    "\n",
    "# hyper = {'n_estimators': [300],\n",
    "#                'max_features': max_features,\n",
    "#                'max_depth': [3],\n",
    "#                #'min_samples_split': min_samples_split,\n",
    "#                #'min_samples_leaf': min_samples_leaf,\n",
    "#                'bootstrap': bootstrap}\n",
    "\n",
    "# grid = GridSearchCV(forest, hyper, cv = 3, verbose = 1, scoring = 'roc_auc', \n",
    "#                       n_jobs = -1)\n",
    "# best = grid.fit(X_train, y_train)"
   ]
  }
 ],
 "metadata": {
  "kernelspec": {
   "display_name": "Python 3",
   "language": "python",
   "name": "python3"
  },
  "language_info": {
   "codemirror_mode": {
    "name": "ipython",
    "version": 3
   },
   "file_extension": ".py",
   "mimetype": "text/x-python",
   "name": "python",
   "nbconvert_exporter": "python",
   "pygments_lexer": "ipython3",
   "version": "3.7.3"
  },
  "varInspector": {
   "cols": {
    "lenName": 16,
    "lenType": 16,
    "lenVar": 40
   },
   "kernels_config": {
    "python": {
     "delete_cmd_postfix": "",
     "delete_cmd_prefix": "del ",
     "library": "var_list.py",
     "varRefreshCmd": "print(var_dic_list())"
    },
    "r": {
     "delete_cmd_postfix": ") ",
     "delete_cmd_prefix": "rm(",
     "library": "var_list.r",
     "varRefreshCmd": "cat(var_dic_list()) "
    }
   },
   "types_to_exclude": [
    "module",
    "function",
    "builtin_function_or_method",
    "instance",
    "_Feature"
   ],
   "window_display": false
  }
 },
 "nbformat": 4,
 "nbformat_minor": 2
}
